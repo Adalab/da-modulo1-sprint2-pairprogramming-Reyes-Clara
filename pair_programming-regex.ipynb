{
 "cells": [
  {
   "cell_type": "markdown",
   "metadata": {},
   "source": [
    "# Pair programming Expresiones Regulares"
   ]
  },
  {
   "cell_type": "code",
   "execution_count": 5,
   "metadata": {},
   "outputs": [],
   "source": [
    "import re"
   ]
  },
  {
   "cell_type": "markdown",
   "metadata": {},
   "source": [
    "1. Validar un número de teléfono.\n",
    "- Descripción: Verificar si una cadena representa un número de teléfono válido en el formato (XXX) XXX-XXXX.\n",
    "- Probad para cada uno de los teléfonos que tenemos en la siguiente lista:\n",
    "telefonos = [\"(123) 456-7890\", \"178 1890-733\", \"(555) 238-1987\", \"(123) 4560-7890\", \"(ABC) 098-1111\"]"
   ]
  },
  {
   "cell_type": "code",
   "execution_count": 58,
   "metadata": {},
   "outputs": [
    {
     "name": "stdout",
     "output_type": "stream",
     "text": [
      "['(123) 456-7890', '178 1890-733', '(555) 238-1987']\n"
     ]
    }
   ],
   "source": [
    "telefonos = [\"(123) 456-7890\", \"178 1890-733\", \"(555) 238-1987\", \"(123) 4560-7890\", \"(ABC) 098-1111\"]\n",
    "\n",
    "patron = r'\\(\\d{3}\\) \\d{3}-\\d{4}|\\d{3} \\d{4}-\\d{3}'\n",
    "telefonos_ok = []\n",
    "\n",
    "for tel in telefonos:\n",
    "    if re.match(patron, tel):\n",
    "        telefonos_ok.append(tel)\n",
    "\n",
    "print (telefonos_ok)\n",
    "\n",
    "#para capturar el paéntesi se pone \\ de lante -> \\(     \\)"
   ]
  },
  {
   "cell_type": "markdown",
   "metadata": {},
   "source": [
    "2. Buscar todas las direcciones de correo electrónico en un texto.\n",
    "- Descripción: Encontrar todas las direcciones de correo electrónico presentes en una cadena de texto.\n",
    "- Probad con el siguiente string:\n",
    "texto = \"Mi correo es user@example.com. Contacta conmigo en john.doe@email.com\""
   ]
  },
  {
   "cell_type": "code",
   "execution_count": 9,
   "metadata": {},
   "outputs": [
    {
     "name": "stdout",
     "output_type": "stream",
     "text": [
      "['user@example.com', 'john.doe@email.com']\n"
     ]
    }
   ],
   "source": [
    "texto_emails = \"Mi correo es user@example.com. Contacta conmigo en john.doe@email.com\"\n",
    "\n",
    "patron2 = r'[\\w._%+-]+@[\\w.-]+[a-zA-Z]{2,4}'\n",
    "\n",
    "emails = re.findall(patron2, texto_emails)\n",
    "\n",
    "print(emails)\n",
    "\n",
    "#r indica cadena cruda(raw string)\n",
    "# re.finall -> se utiliza para buscar coincidencias de una expresión regular en una cadena o en una lista de cadenas.\n"
   ]
  },
  {
   "cell_type": "markdown",
   "metadata": {},
   "source": [
    "3. Validar un código postal.\n",
    "- Descripción: Verificar si una cadena representa un código postal válido de 5 dígitos.\n",
    "- Probad para cada uno de los códigos postales que tenemos en la siguiente lista:\n",
    "codigos_postales = [\"12345\", \"190037\", \"78409\", \"986449\", \"19305\"]"
   ]
  },
  {
   "cell_type": "code",
   "execution_count": 16,
   "metadata": {},
   "outputs": [
    {
     "name": "stdout",
     "output_type": "stream",
     "text": [
      "['12345', '190037', '78409', '986449', '19305']\n"
     ]
    }
   ],
   "source": [
    "codigos_postales = [\"12345\", \"190037\", \"78409\", \"986449\", \"19305\"]\n",
    "\n",
    "patron3 = r'\\d{5}'\n",
    "\n",
    "codigos_5 = []\n",
    "\n",
    "for codigo in codigos_postales:\n",
    "    if re.search(patron3, codigo):\n",
    "        codigos_5.append(codigo)\n",
    "\n",
    "print (codigos_5)\n",
    "\n",
    "#tenemos que hacer un bucle for para extraer los números de la lista que coinciden con el patrón\n",
    "#funciona con re.match y con re.search"
   ]
  },
  {
   "cell_type": "markdown",
   "metadata": {},
   "source": [
    "4. Encontrar todas las palabras que comienzan con una vocal en un texto.\n",
    "- Descripción: Encontrar todas las palabras en un texto que comienzan con una vocal (a, e, i, o, u).\n",
    "- Probad con el siguiente string:\n",
    "texto = \"El perro está ladrando. Ana tiene una manzana. La casa es grande.\""
   ]
  },
  {
   "cell_type": "code",
   "execution_count": 25,
   "metadata": {},
   "outputs": [
    {
     "name": "stdout",
     "output_type": "stream",
     "text": [
      "['El', 'está', 'Ana', 'una', 'es']\n"
     ]
    }
   ],
   "source": [
    "texto = \"El perro está ladrando. Ana tiene una manzana. La casa es grande.\"\n",
    "patron4 = r'\\b[aeiouAEIOU]\\w*\\b'\n",
    "por_a = re.findall(patron4, texto)\n",
    "\n",
    "print(por_a)\n",
    "\n",
    "# re.findall se usa en strings\n",
    "# El uso de \\b al principio y al final de la expresión regular ayuda a asegurarse de que solo\n",
    "#  se obtengan palabras completas que cumplan con el patrón.\n"
   ]
  },
  {
   "cell_type": "markdown",
   "metadata": {},
   "source": [
    "5. Extraer todos los hashtags de un texto.\n",
    "- Descripción: Extraer todos los hashtags (#) presentes en una cadena de texto.\n",
    "- Probad con el siguiente string:\n",
    "texto = \"Me encanta el #deporte. #FelizViernes a todos. Estoy en la conferencia #Tech2022.\""
   ]
  },
  {
   "cell_type": "code",
   "execution_count": 27,
   "metadata": {},
   "outputs": [
    {
     "name": "stdout",
     "output_type": "stream",
     "text": [
      "['#deporte', '#FelizViernes', '#Tech2022']\n"
     ]
    }
   ],
   "source": [
    "texto_hashtags = texto = \"Me encanta el #deporte. #FelizViernes a todos. Estoy en la conferencia #Tech2022.\"\n",
    "\n",
    "patron5 = r'#\\w+'\n",
    "\n",
    "hashtags = re.findall(patron5, texto_hashtags)\n",
    "print (hashtags)\n",
    "\n",
    "# ->  #\\w+ _> busca el símbolo # seguido de uno o más carácteres alfanuméricos (Coincide con cualquier caracter de palabra (igual a [a-zA-Z0-9_]))"
   ]
  },
  {
   "cell_type": "markdown",
   "metadata": {},
   "source": [
    "6. Buscar todos los números decimales en una cadena de texto.\n",
    "- Descripción: Encontrar todos los números decimales presentes en una cadena de texto.\n",
    "- Probad con el siguiente string:\n",
    "texto = \"El precio es $19.99. La temperatura es 25.5°C. El índice de inflación es del 2.5%.\"     "
   ]
  },
  {
   "cell_type": "code",
   "execution_count": 36,
   "metadata": {},
   "outputs": [
    {
     "name": "stdout",
     "output_type": "stream",
     "text": [
      "['19.99', '25.5', '2.5']\n"
     ]
    }
   ],
   "source": [
    "texto_decimales = \"El precio es $19.99. La temperatura es 25.5°C. El índice de inflación es del 2.5%.\"     \n",
    "\n",
    "patron6 = r'\\d+\\.\\d+'\n",
    "\n",
    "decimales = re.findall(patron6, texto_decimales)\n",
    "print (decimales)\n",
    "\n",
    "# se pone \\. para que la expresión regular lo interprete como un punto literal (y no como carácter especial)"
   ]
  },
  {
   "cell_type": "markdown",
   "metadata": {},
   "source": [
    "7. Validar un nombre de usuario.\n",
    "- Descripción: Verificar si una cadena representa un nombre de usuario válido, que contiene solo letras minúsculas, números y guiones bajos (_).\n",
    "- Probad con la siguiente lista de usuarios:\n",
    "lista_usuarios = [\"juan_doe123\", \"lola_12\", \"Aurora_23\", \"12marta_lopez\"]"
   ]
  },
  {
   "cell_type": "code",
   "execution_count": 47,
   "metadata": {},
   "outputs": [
    {
     "name": "stdout",
     "output_type": "stream",
     "text": [
      "['juan_doe123', 'lola_12', '12marta_lopez']\n"
     ]
    }
   ],
   "source": [
    "lista_usuarios = [\"juan_doe123\", \"lola_12\", \"Aurora_23\", \"12marta_lopez\"]\n",
    "\n",
    "patron7 = r'^[a-z0-9_]+$'\n",
    "\n",
    "usuario_valido = []\n",
    "\n",
    "for nombre in lista_usuarios:\n",
    "    if re.match(patron7, nombre): #iteramos en cada nombre de la lista para comprobar que se cumpla la condición\n",
    "        usuario_valido.append(nombre)\n",
    "\n",
    "\n",
    "print (usuario_valido)\n",
    "\n",
    "# + indica una o más veces\n",
    "# ^  indica que la coincidencia empieza en el inicip de la cadena \n",
    "# $ indica uqe la coincidencia debe abarcar toda la cadena\n",
    "# en este ejemplo el patron puede funcionar sin los símboles ^ y $"
   ]
  },
  {
   "cell_type": "markdown",
   "metadata": {},
   "source": [
    "8. Encontrar todas las fechas en formato \"dd/mm/aaaa\" en un texto.\n",
    "-Descripción: Encontrar todas las fechas válidas en formato \"dd/mm/aaaa\" presentes en una cadena de texto.\n",
    "- Probad con el siguiente string:\n",
    "texto = \"La fecha límite es el 31/12/2022. Hoy es 01/01/2023. Cumpleaños: 15/05/1990.\""
   ]
  },
  {
   "cell_type": "code",
   "execution_count": 52,
   "metadata": {},
   "outputs": [
    {
     "name": "stdout",
     "output_type": "stream",
     "text": [
      "['31/12/2022', '01/01/2023', '15/05/1990']\n"
     ]
    }
   ],
   "source": [
    "texto_fechas = \"La fecha límite es el 31/12/2022. Hoy es 01/01/2023. Cumpleaños: 15/05/1990.\"\n",
    "\n",
    "patron8 = r'\\d{2}\\/\\d{2}\\/\\d{4}'\n",
    "\n",
    "fechas = re.findall (patron8, texto_fechas)\n",
    "\n",
    "print (fechas)\n",
    "\n",
    "#  barras inclinadas dobles \\/ para escapar las barras en el patrón (que q es un símbolo usado en Pyyhon)"
   ]
  },
  {
   "cell_type": "markdown",
   "metadata": {},
   "source": [
    "9. Remover caracteres especiales.\n",
    "- Descripción: Dada una cadena de texto, remover cualquier carácter especial, como signos de puntuación y símbolos.\n",
    "- Probad con el siguiente string:\n",
    "texto = '¡Hola, cómo estás? ¿Todo bien?'"
   ]
  },
  {
   "cell_type": "code",
   "execution_count": 54,
   "metadata": {},
   "outputs": [
    {
     "name": "stdout",
     "output_type": "stream",
     "text": [
      "Hola cómo estás Todo bien\n"
     ]
    }
   ],
   "source": [
    "texto_especial = '¡Hola, cómo estás? ¿Todo bien?'\n",
    "\n",
    "patron9 = r'[^\\w\\s]'\n",
    "\n",
    "texto_sin_especial = re.sub(patron9, '', texto_especial) #son re.sub sunstituimos el patron por un espacio vacío\n",
    "print (texto_sin_especial)\n",
    "\n",
    "#r'[^\\w\\s] -> cualquier carácter que no sea una letra, un dígito o un espacio"
   ]
  },
  {
   "cell_type": "markdown",
   "metadata": {},
   "source": [
    "10. BONUS: Enmascarar información personal.\n",
    "- Descripción: Dada una cadena de texto que contiene información personal, como nombres y direcciones, enmascarar esta información reemplazándola con asteriscos (*).\n",
    "- Probad con este string:\n",
    "texto = 'El nombre del cliente es John Doe y su dirección es 123 Main Street.'"
   ]
  }
 ],
 "metadata": {
  "kernelspec": {
   "display_name": "base",
   "language": "python",
   "name": "python3"
  },
  "language_info": {
   "codemirror_mode": {
    "name": "ipython",
    "version": 3
   },
   "file_extension": ".py",
   "mimetype": "text/x-python",
   "name": "python",
   "nbconvert_exporter": "python",
   "pygments_lexer": "ipython3",
   "version": "3.9.7"
  }
 },
 "nbformat": 4,
 "nbformat_minor": 2
}
