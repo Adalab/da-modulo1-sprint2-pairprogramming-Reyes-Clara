{
 "cells": [
  {
   "cell_type": "markdown",
   "metadata": {},
   "source": [
    "1. Calcular el área de un círculo.\n",
    "Descripción: Crea una función llamada calcular_area_circulo que tome el radio como parámetro y devuelva el área del círculo.\n",
    "Area circulo= pi*r**2"
   ]
  },
  {
   "cell_type": "code",
   "execution_count": 3,
   "metadata": {},
   "outputs": [
    {
     "name": "stdout",
     "output_type": "stream",
     "text": [
      "12.5664\n"
     ]
    }
   ],
   "source": [
    "pi=3.1416\n",
    "radio=2\n",
    "area_circulo=pi*radio**2\n",
    "\n",
    "print(area_circulo)"
   ]
  },
  {
   "cell_type": "code",
   "execution_count": 16,
   "metadata": {},
   "outputs": [
    {
     "name": "stdout",
     "output_type": "stream",
     "text": [
      "28.2744\n"
     ]
    }
   ],
   "source": [
    "def calcular_area_circulo (radio, pi=3.1416): #definimos pi como un valor por defecto porque es una constante\n",
    "    area=pi*radio**2\n",
    "    return area\n",
    "\n",
    "area_circulo=calcular_area_circulo(3)\n",
    "print(area_circulo)\n",
    "\n"
   ]
  },
  {
   "cell_type": "markdown",
   "metadata": {},
   "source": [
    "2. Contar la cantidad de caracteres en una cadena.\n",
    "Descripción: Crea una función llamada contar_caracteres que tome una cadena como parámetro y devuelva la cantidad de caracteres que contiene."
   ]
  },
  {
   "cell_type": "code",
   "execution_count": 22,
   "metadata": {},
   "outputs": [
    {
     "name": "stdout",
     "output_type": "stream",
     "text": [
      "['H', 'o', 'l', 'a', ' ', 'q', 'u', 'é', ' ', 't', 'a', 'l']\n",
      "12\n"
     ]
    }
   ],
   "source": [
    "cadena=\"Hola qué tal\"\n",
    "lista_cadena=list(cadena)\n",
    "print(lista_cadena)\n",
    "caracteres=0\n",
    "for x in lista_cadena:\n",
    "    caracteres+=1\n",
    "print(caracteres)\n",
    "    "
   ]
  },
  {
   "cell_type": "code",
   "execution_count": 48,
   "metadata": {},
   "outputs": [
    {
     "name": "stdout",
     "output_type": "stream",
     "text": [
      "12\n"
     ]
    }
   ],
   "source": [
    "\n",
    "def contar_caracteres (cadena):\n",
    "    lista_cadena=list(cadena)\n",
    "    caracteres=0\n",
    "    for x in lista_cadena:\n",
    "        caracteres+=1   \n",
    "    return caracteres #esto se corresponde con el print del resultado de nuestro for\n",
    "\n",
    "resultado=contar_caracteres(\"Hola que tal\")\n",
    "print(resultado)\n"
   ]
  },
  {
   "cell_type": "markdown",
   "metadata": {},
   "source": [
    "3. Determinar si una cadena es un palíndromo.\n",
    "Descripción: Crea una función llamada es_palindromo que tome una cadena como parámetro y devuelva True si es un palíndromo, o False si no lo es."
   ]
  },
  {
   "cell_type": "code",
   "execution_count": 47,
   "metadata": {},
   "outputs": [
    {
     "name": "stdout",
     "output_type": "stream",
     "text": [
      "No es un palíndromo\n"
     ]
    }
   ],
   "source": [
    "frase=\"Dabale arroz a la zorra el abad\"\n",
    "frase_junta= frase.lower().replace(\" \",\"\")\n",
    "frase_junta[::-1]\n",
    "if frase== frase_junta[::-1]:\n",
    "    print(\"Es un palíndromo\")\n",
    "else: \n",
    "    print(\"No es un palíndromo\")    "
   ]
  },
  {
   "cell_type": "code",
   "execution_count": 31,
   "metadata": {},
   "outputs": [
    {
     "name": "stdout",
     "output_type": "stream",
     "text": [
      "Arañara es un palíndromo\n"
     ]
    }
   ],
   "source": [
    "def palindromo (frase):\n",
    "    \n",
    "    frase_junta= frase.replace(\" \",\"\").lower()\n",
    "    frase_junta[::-1]\n",
    "  \n",
    "    if frase_junta== frase_junta[::-1]:\n",
    "        return(f\"{frase} es un palíndromo\")\n",
    "    else: \n",
    "        return(\"No es un palíndromo\")\n",
    "    \n",
    "pal=palindromo(\"Arañara\")\n",
    "print(pal)"
   ]
  },
  {
   "cell_type": "markdown",
   "metadata": {},
   "source": [
    "4. Calcular el promedio de una lista de números.\n",
    "Descripción: Crea una función llamada calcular_promedio que tome una lista de números como parámetro y devuelva el promedio de todos sus elementos."
   ]
  },
  {
   "cell_type": "code",
   "execution_count": 12,
   "metadata": {},
   "outputs": [
    {
     "name": "stdout",
     "output_type": "stream",
     "text": [
      "5.0\n"
     ]
    }
   ],
   "source": [
    "numero=[2, 4, 6, 8]\n",
    "suma=0\n",
    "for x in numero: \n",
    "    suma=(suma+x)\n",
    "    promedio=suma/len(numero) \n",
    "print(promedio)  "
   ]
  },
  {
   "cell_type": "code",
   "execution_count": 32,
   "metadata": {},
   "outputs": [
    {
     "name": "stdout",
     "output_type": "stream",
     "text": [
      "6.2\n"
     ]
    }
   ],
   "source": [
    "def calcular_promedio(notas):\n",
    "    suma=0\n",
    "    for x in notas:\n",
    "        suma=(suma+x)\n",
    "        promedio=suma/len(notas)\n",
    "    return promedio\n",
    "\n",
    "calificaciones=calcular_promedio([4,5.5,8,7.5,6])\n",
    "print(calificaciones)\n"
   ]
  },
  {
   "cell_type": "markdown",
   "metadata": {},
   "source": [
    "5. Calcular el interés compuesto.\n",
    "Descripción: Crea una función llamada calcular_interes_compuesto que tome el capital inicial, la tasa de interés y el número de períodos como parámetros y devuelva el beneficio final después del interés compuesto."
   ]
  },
  {
   "cell_type": "code",
   "execution_count": 39,
   "metadata": {},
   "outputs": [
    {
     "data": {
      "text/plain": [
       "40.0"
      ]
     },
     "execution_count": 39,
     "metadata": {},
     "output_type": "execute_result"
    }
   ],
   "source": [
    "C_inicial= 200\n",
    "interes=0.2\n",
    "periodo=1\n",
    "C_final= C_inicial*((1+interes)**periodo)\n",
    "C_final\n",
    "Beneficio=C_final-C_inicial\n",
    "Beneficio"
   ]
  },
  {
   "cell_type": "code",
   "execution_count": 6,
   "metadata": {},
   "outputs": [
    {
     "name": "stdout",
     "output_type": "stream",
     "text": [
      "59.66161100095013\n"
     ]
    }
   ],
   "source": [
    "def calcular_interes_compuesto (c_inicial, interes, periodo): \n",
    "    \n",
    "    c_inicial=float(c_inicial)\n",
    "    interes=float(interes)\n",
    "    \n",
    "    c_final = c_inicial * (1 + interes) ** periodo\n",
    "    \n",
    "    beneficio=c_final-c_inicial\n",
    "    \n",
    "    return beneficio\n",
    "    \n",
    "benef_final=calcular_interes_compuesto(401.26, 0.02, 7)\n",
    "print(benef_final)"
   ]
  },
  {
   "cell_type": "markdown",
   "metadata": {},
   "source": [
    "6. Validar si una palabra es un anagrama de otra.\n",
    "Descripción: Crea una función llamada es_anagrama que tome dos palabras como parámetros y devuelva True si una es un anagrama de la otra, o False si no lo es."
   ]
  },
  {
   "cell_type": "code",
   "execution_count": 46,
   "metadata": {},
   "outputs": [
    {
     "data": {
      "text/plain": [
       "True"
      ]
     },
     "execution_count": 46,
     "metadata": {},
     "output_type": "execute_result"
    }
   ],
   "source": [
    "def es_anagrama (anagrama1, anagrama2): \n",
    "    anagrama1=anagrama1.lower()\n",
    "    anagrama2=anagrama2.lower()\n",
    "    lista_palabra1=list(anagrama1)\n",
    "    lista_palabra2=list(anagrama2)\n",
    "    lista_palabra1.sort()\n",
    "    lista_palabra2.sort()\n",
    "    palabra1_junta=\"\".join(lista_palabra1)\n",
    "    palabra2_junta=\"\".join(lista_palabra2)\n",
    "    \n",
    "    if palabra1_junta==palabra2_junta: \n",
    "        return True\n",
    "    else: \n",
    "        return False\n",
    "\n",
    "\n",
    "prueba=es_anagrama(\"Seto\", \"esto\")\n",
    "prueba"
   ]
  },
  {
   "cell_type": "markdown",
   "metadata": {},
   "source": [
    "7. Validar si una cadena de texto es un isograma.\n",
    "Descripción: Crea una función llamada es_isograma que tome una cadena de texto como parámetro y devuelva True si es un isograma. En caso contrario, devuelve False.\n",
    "¿Qué es un isograma? Una palabra que no contiene letras repetidas."
   ]
  },
  {
   "cell_type": "code",
   "execution_count": 77,
   "metadata": {},
   "outputs": [
    {
     "data": {
      "text/plain": [
       "False"
      ]
     },
     "execution_count": 77,
     "metadata": {},
     "output_type": "execute_result"
    }
   ],
   "source": [
    "def es_isograma (texto):\n",
    "    \n",
    "    \n",
    "    if len(texto)==len(set(texto)): \n",
    "        return True\n",
    "    else: \n",
    "        return False\n",
    "\n",
    "iso=es_isograma (\"fresa\")\n",
    "iso"
   ]
  },
  {
   "cell_type": "markdown",
   "metadata": {},
   "source": [
    "8. Concatenar múltiples cadenas de texto\n",
    "Descripción: Crea una función llamada concatenar_cadenas que tome una cantidad variable de cadenas de texto como argumentos y devuelva una única cadena que contenga la concatenación de todas las cadenas ingresadas."
   ]
  },
  {
   "cell_type": "code",
   "execution_count": 82,
   "metadata": {},
   "outputs": [
    {
     "data": {
      "text/plain": [
       "'Hola que tal como estás'"
      ]
     },
     "execution_count": 82,
     "metadata": {},
     "output_type": "execute_result"
    }
   ],
   "source": [
    "def concatenar_cadenas (*cadena): \n",
    "    \n",
    "    concatenar= \" \".join(cadena)\n",
    "   \n",
    "    return concatenar\n",
    "        \n",
    "cadenas=concatenar_cadenas(\"Hola\", \"que tal\", \"como estás\")\n",
    "cadenas"
   ]
  },
  {
   "cell_type": "markdown",
   "metadata": {},
   "source": [
    "9. Crear un diccionario con información de una persona.\n",
    "Descripción: Crea una función llamada crear_persona que tome como argumentos clave-valor los datos de una persona, como nombre, edad, ciudad, etc., y devuelva un diccionario con toda la información ingresada."
   ]
  },
  {
   "cell_type": "code",
   "execution_count": 7,
   "metadata": {},
   "outputs": [
    {
     "data": {
      "text/plain": [
       "{'nombre': 'Pedro', 'edad': 43, 'ciudad': 'Valencia', 'altura': 189}"
      ]
     },
     "execution_count": 7,
     "metadata": {},
     "output_type": "execute_result"
    }
   ],
   "source": [
    "def crear_persona (**informacion_persona):\n",
    "    return informacion_persona \n",
    "\n",
    "info= {\"nombre\": \"Pedro\", \"edad\": 43, \"ciudad\": \"Valencia\", \"altura\": 189}\n",
    "individuo=crear_persona(**info)\n",
    "individuo\n"
   ]
  },
  {
   "cell_type": "markdown",
   "metadata": {},
   "source": [
    "10. Encontrar el número que falta en una lista ordenada de números consecutivos.\n",
    "Descripción: Crea una función llamada encontrar_numero_faltante que tome una lista de números consecutivos (del 1 al N, sin repetir) con un número faltante y devuelva ese número faltante."
   ]
  },
  {
   "cell_type": "code",
   "execution_count": 4,
   "metadata": {},
   "outputs": [
    {
     "name": "stdout",
     "output_type": "stream",
     "text": [
      "28.0\n",
      "22\n"
     ]
    },
    {
     "data": {
      "text/plain": [
       "6.0"
      ]
     },
     "execution_count": 4,
     "metadata": {},
     "output_type": "execute_result"
    }
   ],
   "source": [
    "def encontrar_numero_faltante(numeros):\n",
    "    \n",
    "    #una progresión aritmética es una serie numérica y, por tanto, infinita, \n",
    "    #en la que la variación entre dos números consecutivos cualquiera será siempre la misma a lo largo de toda la sucesión. \n",
    "    \n",
    "    tamaño_lista=len(numeros)+1 #a nuestra lista le falta un elemento, le sumamos ese elemento para que nos devuelva el tamaño que debería tener la lista si estuviera ese número. \n",
    "    suma_lista=(tamaño_lista*(tamaño_lista+1))/2 #sumatorio de la lista si estuvieran todos los numeros\n",
    "    print(suma_lista) \n",
    "    \n",
    "    suma_verdad= sum(numeros) #suma de los elementos de nuestra lista real\n",
    "    print(suma_verdad)\n",
    "    \n",
    "    ausente=suma_lista-suma_verdad\n",
    "    \n",
    "    return ausente\n",
    "\n",
    "numero_fantasma=encontrar_numero_faltante([1,2,3,4,5,7])\n",
    "numero_fantasma\n",
    "    "
   ]
  },
  {
   "cell_type": "markdown",
   "metadata": {},
   "source": [
    "11. Encontrar el elemento duplicado en una lista de números.\n",
    "Descripción: Crea una función llamada encontrar_duplicado que tome una lista de números enteros y devuelva el elemento que está duplicado en la lista."
   ]
  },
  {
   "cell_type": "code",
   "execution_count": 5,
   "metadata": {},
   "outputs": [
    {
     "name": "stdout",
     "output_type": "stream",
     "text": [
      "8\n"
     ]
    }
   ],
   "source": [
    "def encontrar_duplicado(lista_enteros):\n",
    "    repetidos= set()\n",
    "    \n",
    "    for entero in lista_enteros:\n",
    "        if entero in repetidos: \n",
    "            return entero\n",
    "        \n",
    "        else: \n",
    "            repetidos.add(entero)\n",
    " \n",
    "set_numeros=[8,41,54,89,8,102,97,3,0,32,104]   \n",
    "duplicados= encontrar_duplicado(set_numeros)\n",
    "print(duplicados)"
   ]
  }
 ],
 "metadata": {
  "kernelspec": {
   "display_name": "base",
   "language": "python",
   "name": "python3"
  },
  "language_info": {
   "codemirror_mode": {
    "name": "ipython",
    "version": 3
   },
   "file_extension": ".py",
   "mimetype": "text/x-python",
   "name": "python",
   "nbconvert_exporter": "python",
   "pygments_lexer": "ipython3",
   "version": "3.9.7"
  }
 },
 "nbformat": 4,
 "nbformat_minor": 2
}
