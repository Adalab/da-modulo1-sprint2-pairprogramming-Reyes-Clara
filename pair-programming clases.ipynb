{
 "cells": [
  {
   "cell_type": "code",
   "execution_count": 53,
   "metadata": {},
   "outputs": [],
   "source": [
    "class Empleados:\n",
    "    \n",
    "    def __init__ (self, nombre, apellidos, edad, posicion, año, herramientas=[], vacaciones=0, salario=0):\n",
    "        self.nombre=nombre\n",
    "        self.apellidos=apellidos\n",
    "        self.edad=edad\n",
    "        self.posicion=posicion\n",
    "        self.año=año\n",
    "        self.vacaciones=vacaciones\n",
    "        self.herramientas=herramientas\n",
    "        self.salario=salario \n",
    "        \n",
    "    def descripcion(self):\n",
    "        return (f\"El empleado se llama {self.nombre} {self.apellidos}, ocupa la posición de {self.posicion}, trabaja en la empresa desde {self.año} y ha consumido hasta la fecha {self.vacaciones} días de vacaciones\")\n",
    "    \n",
    "    def cambiando_posicion (self):\n",
    "        \n",
    "        lista_herramientas=[]\n",
    "        \n",
    "        for herramienta in self.herramientas:\n",
    "            \n",
    "            if herramienta == \"Python\":\n",
    "                lista_herramientas.append(herramienta.lower())\n",
    "                print(\"Muy bien, estás usando el mejor lenguaje de programación :D\")\n",
    "            elif herramienta== \"Excel\":\n",
    "                lista_herramientas.append(herramienta.lower())\n",
    "                print (f\"¡Oye! Deja {herramienta} y pásate Python ;)\")\n",
    "            else: \n",
    "                lista_herramientas.append(herramienta.lower())\n",
    "                \n",
    "        return (f\"{self.nombre} {self.apellidos} tiene autorizado el uso de: {lista_herramientas}\")\n",
    "    \n",
    "    def calcular_antiguedad (self):\n",
    "        \n",
    "        from datetime import date\n",
    "        hoy=date.today().year\n",
    "        antiguedad= hoy-self.año\n",
    "        \n",
    "        return (f\"El trabajador/a {self.nombre} {self.apellidos} lleva {antiguedad} años y {date.today().month} meses trabajando para la empresa\")\n",
    "    \n",
    "    def solicitar_aumento_vacaciones (self,dias_solicitados): \n",
    "        \n",
    "        if dias_solicitados>0: \n",
    "                self.vacaciones+=dias_solicitados\n",
    "        else:  \n",
    "            return f'¡¡ERROR!! Introduzca un número positivo'\n",
    "        \n",
    "        return f\"Aprobada la solicitud de ampliación de vacaciones. Las vacaciones pendientes de {self.nombre} {self.apellidos} son {self.vacaciones} días\"\n",
    "    \n",
    "    def registrar_herramienta(self, nueva_herramienta): #ya habiamos contemplado esta posibilidad en el método cambiando_posición :(\n",
    "        \n",
    "        if nueva_herramienta not in self.herramientas: \n",
    "            self.herramientas.append(nueva_herramienta)\n",
    "        else: \n",
    "            return f'La herramienta {nueva_herramienta} ya figura en el listado'\n",
    "        return f\"El listado de herramientas se ha actualizado, en este momento el {self.nombre} {self.apellidos} está autorizado al uso de {self.herramientas}\"\n",
    "    \n",
    "    def cambiar_posición (self):\n",
    "        \n",
    "        self.posicion= input(\"Dinos cuál es tu nuevo puesto para poder actualizarlo en tu perfil:\")\n",
    "        self.salario = float(input(\"Indicanos el nuevo salario:\"))\n",
    "              \n",
    "        return f'Enhorabuena, {self.nombre} {self.apellidos} tu nueva posición es {self.posicion} y tu salario es {self.salario}€'\n",
    "        \n",
    "    def tomar_vacaciones (self):\n",
    "        \n",
    "        dias_solicitados= int(input('¿Cuántos días de vacaciones quieres solicitar:'))\n",
    "        \n",
    "        while dias_solicitados< 0:\n",
    "            int(input('¡Ups!, parace que te has equivocado, por favor, introduce un número válido:'))\n",
    "         \n",
    "        if dias_solicitados <= self.vacaciones:\n",
    "            self.vacaciones-=dias_solicitados\n",
    "            return f'Hemos aprobado tu solicitud. Te quedan disponibles {self.vacaciones} dias :)'\n",
    "               \n",
    "        else:\n",
    "            return f\"{self.nombre} {self.apellidos}, has solicitado {dias_solicitados} y tienes disponibles {self.vacaciones}. No es posible aprobar tu solicitud :()\"  \n",
    "         \n",
    "    def solicitar_aumento_salario (self):\n",
    "        \n",
    "        try:\n",
    "            aumento = float(input('Indícanos que porcentaje de aumento solicitas: '))\n",
    "            \n",
    "            while aumento <= 0:\n",
    "                aumento = float(input(\"Por favor, facilita un valor superior a 0\"))\n",
    "            if aumento>0:    \n",
    "                self.salario= self.salario*aumento/100 + self.salario\n",
    "                return f'{self.nombre} {self.apellidos}, hemos gestionado tu aumento de salario. Tu salario actualmente es {self.salario}€'\n",
    "        except:\n",
    "            return 'Solicitud errónea'\n",
    "    \n",
    "    def realizar_evaluación (self): \n",
    "        desempeño=[\"Excelente\", \"Bueno\", \"Regular\", \"Malo\"]\n",
    "        valoracion= input (f\"Para nosotros es importante tu opinión: por favor, dinos qué valoración darías a tu desempeño en la empresa. Elige entre las sigueintes opciones: {desempeño}\").lower()\n",
    "        \n",
    "        while True: \n",
    "               \n",
    "            if valoracion == \"excelente\": \n",
    "                return f\"Muchas gracias, {self.nombre} {self.apellidos}, vamos a tener en consideración tu valoración para una posible mejora en tus condiciones.\"\n",
    "            elif valoracion== \"bueno\":\n",
    "                return f\"Muchas gracias, {self.nombre} {self.apellidos}, esperamos que sigas mejorando para poder reconsiderar tus condiciones.\"\n",
    "            elif valoracion== \"regular\":\n",
    "                return f\"Muchas gracias, {self.nombre} {self.apellidos}, creemos que podemos ayudarte a mejorar esta situación, ponte en contacto con el Dpto de RRHH para tratar el tema.\"\n",
    "            elif valoracion == \"malo\":\n",
    "                return f\"Muchas gracias, {self.nombre} {self.apellidos}, nos preocupa esta valoración se pondrá en contacto contigo el Dpto de RRHH para valorar alternativas.\"\n",
    "            else: \n",
    "                valoracion= input (f\"Para nosotros es importante tu opinión: por favor, dinos qué valoración darías a tu desempeño en la empresa. Elige entre las sigueintes opciones: {desempeño}\").lower()\n",
    "         \n",
    "    "
   ]
  },
  {
   "cell_type": "code",
   "execution_count": 14,
   "metadata": {},
   "outputs": [],
   "source": [
    "#Instancionamos objeto: \n",
    "mundoideal=Empleados(\"Pedro\", \"Martínez\", 38, \"administrativo\", 2023, [\"Excel\", \"martillo\", \"tenazas\"], vacaciones=10)\n"
   ]
  },
  {
   "cell_type": "code",
   "execution_count": 15,
   "metadata": {},
   "outputs": [
    {
     "data": {
      "text/plain": [
       "'El empleado se llama Pedro Martínez, ocupa la posición de administrativo, trabaja en la empresa desde 2023 y ha consumido hasta la fecha 10 días de vacaciones'"
      ]
     },
     "execution_count": 15,
     "metadata": {},
     "output_type": "execute_result"
    }
   ],
   "source": [
    "mundoideal.descripcion()"
   ]
  },
  {
   "cell_type": "code",
   "execution_count": 5,
   "metadata": {},
   "outputs": [
    {
     "data": {
      "text/plain": [
       "'El trabajador/a Pedro Martínez lleva 0 años y 10 meses trabajando para la empresa'"
      ]
     },
     "execution_count": 5,
     "metadata": {},
     "output_type": "execute_result"
    }
   ],
   "source": [
    "mundoideal.calcular_antiguedad()"
   ]
  },
  {
   "cell_type": "code",
   "execution_count": 6,
   "metadata": {},
   "outputs": [
    {
     "data": {
      "text/plain": [
       "'Aprobada la solicitud de ampliación de vacaciones. Las vacaciones pendientes de Pedro Martínez son 30 días'"
      ]
     },
     "execution_count": 6,
     "metadata": {},
     "output_type": "execute_result"
    }
   ],
   "source": [
    "mundoideal.solicitar_aumento_vacaciones(20)"
   ]
  },
  {
   "cell_type": "code",
   "execution_count": 7,
   "metadata": {},
   "outputs": [
    {
     "data": {
      "text/plain": [
       "\"El listado de herramientas se ha actualizado, en este momento el Pedro Martínez está autorizado al uso de ['Excel', 'martillo', 'tenazas', 'ordenador']\""
      ]
     },
     "execution_count": 7,
     "metadata": {},
     "output_type": "execute_result"
    }
   ],
   "source": [
    "mundoideal.registrar_herramienta(\"ordenador\")"
   ]
  },
  {
   "cell_type": "code",
   "execution_count": 8,
   "metadata": {},
   "outputs": [
    {
     "data": {
      "text/plain": [
       "'Enhorabuena, Pedro Martínez tu nueva posición es Ingeniero y tu salario es 45800.0€'"
      ]
     },
     "execution_count": 8,
     "metadata": {},
     "output_type": "execute_result"
    }
   ],
   "source": [
    "mundoideal.cambiar_posición()"
   ]
  },
  {
   "cell_type": "code",
   "execution_count": 9,
   "metadata": {},
   "outputs": [
    {
     "data": {
      "text/plain": [
       "'Hemos aprobado tu solicitud. Te quedan disponibles 22 dias :)'"
      ]
     },
     "execution_count": 9,
     "metadata": {},
     "output_type": "execute_result"
    }
   ],
   "source": [
    "mundoideal.tomar_vacaciones()"
   ]
  },
  {
   "cell_type": "code",
   "execution_count": 10,
   "metadata": {},
   "outputs": [
    {
     "data": {
      "text/plain": [
       "'Pedro Martínez, hemos gestionado tu aumento de salario. Tu salario actualmente es 50380.0€'"
      ]
     },
     "execution_count": 10,
     "metadata": {},
     "output_type": "execute_result"
    }
   ],
   "source": [
    "mundoideal.solicitar_aumento_salario()"
   ]
  },
  {
   "cell_type": "code",
   "execution_count": 10,
   "metadata": {},
   "outputs": [
    {
     "data": {
      "text/plain": [
       "'Muchas gracias, Pedro Martínez, nos preocupa esta valoración se pondrá en contacto contigo el Dpto de RRHH para valorar alternativas.'"
      ]
     },
     "execution_count": 10,
     "metadata": {},
     "output_type": "execute_result"
    }
   ],
   "source": [
    "mundoideal.realizar_evaluación()"
   ]
  },
  {
   "cell_type": "code",
   "execution_count": 12,
   "metadata": {},
   "outputs": [],
   "source": [
    "mundoideal= Empleados(\"Sara\", \"González\", 27, \"jardinera\", 2019)"
   ]
  },
  {
   "cell_type": "code",
   "execution_count": 56,
   "metadata": {},
   "outputs": [],
   "source": [
    "class Gerente(Empleados):\n",
    "    def __init__(self, nombre, apellido,edad,posicion,año,vacaciones,herramientas,salario,departamento,empleados_a_cargo=[]):\n",
    "        super().__init__(nombre,apellido,edad,posicion,año,vacaciones,herramientas,salario)\n",
    "\n",
    "        self.departamento = departamento\n",
    "        self.empleados_a_cargo = empleados_a_cargo\n",
    "\n",
    "    def asignar_tareas(self,tarea,empleado):\n",
    "        \n",
    "        return f'El gerente ha asignado a {empleado} la siguiente tarea: {tarea}'\n",
    "    \n",
    "    def revisar_desempeno_empleado(self, empleado):\n",
    "        \n",
    "        return f'{empleado}, el gerente está todavía revisando el informe de desempeño.'\n",
    "    \n",
    "    def gestionar_empleado(self,accion, empleado):\n",
    "        \n",
    "        if accion == 'contratar':\n",
    "            \n",
    "            self.empleados_a_cargo.append(empleado)\n",
    "            \n",
    "            return f'El trabajador/a {empleado} ha sido contratado/a por el gerente'\n",
    "        \n",
    "        elif accion == 'despedir':\n",
    "            \n",
    "            if empleado in self.empleados_a_cargo:\n",
    "                \n",
    "                self.empleados_a_cargo.remove(empleado)\n",
    "                \n",
    "                return f'{empleado}, lamentamos informarte de que hemos de prescindir de tus servicios'\n",
    "            \n",
    "            else:\n",
    "                'La acción no es válida'"
   ]
  },
  {
   "cell_type": "code",
   "execution_count": 57,
   "metadata": {},
   "outputs": [],
   "source": [
    "#Instanciamos la subclase\n",
    "financiero=Gerente(\"Ramón\", \"Torres\", 58, \"administrativo\", 1985, 65, \"No usa\", 35000, \"Dpto de Usura\")"
   ]
  },
  {
   "cell_type": "code",
   "execution_count": 58,
   "metadata": {},
   "outputs": [
    {
     "data": {
      "text/plain": [
       "'El trabajador/a Jesús ha sido contratado/a por el gerente'"
      ]
     },
     "execution_count": 58,
     "metadata": {},
     "output_type": "execute_result"
    }
   ],
   "source": [
    "financiero.gestionar_empleado(\"contratar\", \"Jesús\")"
   ]
  },
  {
   "cell_type": "code",
   "execution_count": 59,
   "metadata": {},
   "outputs": [
    {
     "data": {
      "text/plain": [
       "'Jesús, lamentamos informarte de que hemos de prescindir de tus servicios'"
      ]
     },
     "execution_count": 59,
     "metadata": {},
     "output_type": "execute_result"
    }
   ],
   "source": [
    "financiero. gestionar_empleado(\"despedir\", \"Jesús\")"
   ]
  },
  {
   "cell_type": "code",
   "execution_count": 60,
   "metadata": {},
   "outputs": [
    {
     "data": {
      "text/plain": [
       "'Jesús, el gerente está todavía revisando el informe de desempeño.'"
      ]
     },
     "execution_count": 60,
     "metadata": {},
     "output_type": "execute_result"
    }
   ],
   "source": [
    "financiero.revisar_desempeno_empleado(\"Jesús\")"
   ]
  },
  {
   "cell_type": "code",
   "execution_count": 61,
   "metadata": {},
   "outputs": [
    {
     "data": {
      "text/plain": [
       "'El gerente ha asignado a Antonio la siguiente tarea: limpiar el baño'"
      ]
     },
     "execution_count": 61,
     "metadata": {},
     "output_type": "execute_result"
    }
   ],
   "source": [
    "financiero.asignar_tareas(\"limpiar el baño\", \"Antonio\")"
   ]
  }
 ],
 "metadata": {
  "kernelspec": {
   "display_name": "base",
   "language": "python",
   "name": "python3"
  },
  "language_info": {
   "codemirror_mode": {
    "name": "ipython",
    "version": 3
   },
   "file_extension": ".py",
   "mimetype": "text/x-python",
   "name": "python",
   "nbconvert_exporter": "python",
   "pygments_lexer": "ipython3",
   "version": "3.9.7"
  }
 },
 "nbformat": 4,
 "nbformat_minor": 2
}
