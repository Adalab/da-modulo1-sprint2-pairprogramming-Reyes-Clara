{
 "cells": [
  {
   "cell_type": "markdown",
   "metadata": {},
   "source": [
    "# Ejericios bucles for"
   ]
  },
  {
   "cell_type": "markdown",
   "metadata": {},
   "source": [
    "1- Imprimir los números del 1 al 5 utilizando un bucle for\n",
    "Descripción: Utiliza un bucle for para imprimir los números del 1 al 5 (incluido) en orden ascendente."
   ]
  },
  {
   "cell_type": "code",
   "execution_count": 2,
   "metadata": {},
   "outputs": [
    {
     "name": "stdout",
     "output_type": "stream",
     "text": [
      "[1, 2, 3, 4, 5]\n"
     ]
    }
   ],
   "source": [
    "lista_numeros = []\n",
    "for n in range(1,6):\n",
    "    lista_numeros.append(n)\n",
    "print(lista_numeros)"
   ]
  },
  {
   "cell_type": "markdown",
   "metadata": {},
   "source": [
    "2- Calcular la suma de los primeros 10 números naturales utilizando un bucle for\n",
    "Descripción: Utiliza un bucle for para calcular la suma de los primeros 10 números naturales (1 + 2 + 3 + ... + 10)."
   ]
  },
  {
   "cell_type": "code",
   "execution_count": 5,
   "metadata": {},
   "outputs": [
    {
     "name": "stdout",
     "output_type": "stream",
     "text": [
      "1\n",
      "2\n",
      "3\n",
      "4\n",
      "5\n",
      "6\n",
      "7\n",
      "8\n",
      "9\n",
      "10\n",
      "55\n"
     ]
    }
   ],
   "source": [
    "suma = 0\n",
    "for n in range(1,11):\n",
    "    print (n)\n",
    "    suma= suma+n\n",
    "print(suma)"
   ]
  },
  {
   "cell_type": "markdown",
   "metadata": {},
   "source": [
    "3 - Calcular el producto de los elementos de una lista\n",
    "Descripción: Dada una lista de números, utiliza un bucle for para calcular el producto de todos los elementos."
   ]
  },
  {
   "cell_type": "code",
   "execution_count": 11,
   "metadata": {},
   "outputs": [
    {
     "name": "stdout",
     "output_type": "stream",
     "text": [
      "6\n"
     ]
    }
   ],
   "source": [
    "numeros = [2,3]\n",
    "producto = 1\n",
    "for x in numeros:\n",
    "    producto *= x\n",
    "print(producto)"
   ]
  },
  {
   "cell_type": "markdown",
   "metadata": {},
   "source": [
    "4- Imprimir los caracteres de una cadena de texto\n",
    "Descripción: Dada una cadena de texto, utiliza un bucle for para imprimir cada carácter en una línea separada."
   ]
  },
  {
   "cell_type": "code",
   "execution_count": 14,
   "metadata": {},
   "outputs": [
    {
     "name": "stdout",
     "output_type": "stream",
     "text": [
      "['B', 'u', 'e', 'n', 'o', 's', ' ', 'd', 'í', 'a', 's']\n"
     ]
    }
   ],
   "source": [
    "frase = \"Buenos días\"\n",
    "frase_ = []\n",
    "for letra in frase:\n",
    "    frase_.append(letra)\n",
    "\n",
    "print(frase_)\n"
   ]
  },
  {
   "cell_type": "markdown",
   "metadata": {},
   "source": [
    "5- Imprimir los números pares del 1 al 100 utilizando un bucle for\n",
    "Descripción: Utiliza un bucle for para imprimir los números pares del 1 al 100 en orden ascendente."
   ]
  },
  {
   "cell_type": "code",
   "execution_count": 19,
   "metadata": {},
   "outputs": [
    {
     "name": "stdout",
     "output_type": "stream",
     "text": [
      "[2, 4, 6, 8, 10, 12, 14, 16, 18, 20, 22, 24, 26, 28, 30, 32, 34, 36, 38, 40, 42, 44, 46, 48, 50, 52, 54, 56, 58, 60, 62, 64, 66, 68, 70, 72, 74, 76, 78, 80, 82, 84, 86, 88, 90, 92, 94, 96, 98, 100]\n"
     ]
    }
   ],
   "source": [
    "pares = []\n",
    "\n",
    "for num in range(1, 101):\n",
    "   if num%2==0:\n",
    "    pares.append(num) \n",
    "print(pares)"
   ]
  },
  {
   "cell_type": "markdown",
   "metadata": {},
   "source": [
    "6- Imprimir los números primos del 1 al 50 utilizando un bucle for\n",
    "- Descripción: Utiliza un bucle for para imprimir los números primos del 1 al 50 en orden ascendente.\n",
    "- NOTA: Según la Wikipedia, un número primo es un número natural mayor que 1 que no tiene divisores positivos más que 1 y él mismo."
   ]
  },
  {
   "cell_type": "code",
   "execution_count": 23,
   "metadata": {},
   "outputs": [
    {
     "name": "stdout",
     "output_type": "stream",
     "text": [
      "[2, 3, 5, 7, 11, 13, 17, 19, 23, 29, 31, 37, 41, 43, 47]\n"
     ]
    }
   ],
   "source": [
    "primos = []\n",
    "for num in range(2,51):\n",
    "    primo = True\n",
    "    for n in range(2, num):\n",
    "        if num % n == 0:\n",
    "            primo = False\n",
    "            break\n",
    "    if primo == True:\n",
    "        primos.append(num)\n",
    "print(primos)   "
   ]
  },
  {
   "cell_type": "markdown",
   "metadata": {},
   "source": [
    "7- Calcular el factorial de un número utilizando un bucle for\n",
    "- Descripción: Dado un número entero positivo, calcula su factorial utilizando un bucle for."
   ]
  },
  {
   "cell_type": "code",
   "execution_count": 2,
   "metadata": {},
   "outputs": [
    {
     "name": "stdout",
     "output_type": "stream",
     "text": [
      "Factorial del 3 es 6\n"
     ]
    }
   ],
   "source": [
    "numero= int(input(\"Introduza un numero:\"))\n",
    "\n",
    "factorial=1 \n",
    "\n",
    "if numero>0: #para asegurarnos de que es un número positivo primero establecemos esta condición, para que descarte de entrada los números negativos\n",
    "    \n",
    "    for num in range(1,numero+1): #el rango debe ir de 1 hasta el número que introducimos, es decir, numero+1 porque si ponemos el numero no lo incluirá\n",
    "        \n",
    "        factorial=factorial*num #multiplica el factorial \"acumulado\" por la variable num. \n",
    "        \n",
    "print(f\"Factorial del {numero} es {factorial}\")\n"
   ]
  },
  {
   "cell_type": "markdown",
   "metadata": {},
   "source": [
    "8 - Juego de adivinar palabras utilizando un bucle for\n",
    "- Descripción: Crea un juego en el que el jugador debe adivinar una palabra secreta. El jugador tiene un número limitado de intentos y se le proporcionan pistas después de cada intento. Utiliza un bucle for para controlar los intentos del jugador."
   ]
  },
  {
   "cell_type": "code",
   "execution_count": 17,
   "metadata": {},
   "outputs": [
    {
     "name": "stdout",
     "output_type": "stream",
     "text": [
      "La palabra era Farzana\n"
     ]
    }
   ],
   "source": []
  },
  {
   "cell_type": "markdown",
   "metadata": {},
   "source": [
    "# Ejercicios list comprehension\n",
    "1- Generar una lista de los números pares del 1 al 20.\n",
    "- Descripción: Utiliza list comprehension para generar una lista que contenga todos los números pares en el rango del 1 al 20."
   ]
  },
  {
   "cell_type": "code",
   "execution_count": 17,
   "metadata": {},
   "outputs": [
    {
     "name": "stdout",
     "output_type": "stream",
     "text": [
      "[2, 4, 6, 8, 10, 12, 14, 16, 18, 20]\n"
     ]
    }
   ],
   "source": [
    "pares=[num for num in range(1, 21) if num%2==0]\n",
    "print(pares)"
   ]
  },
  {
   "cell_type": "markdown",
   "metadata": {},
   "source": [
    "2- Obtener una lista de las vocales en una cadena de texto.\n",
    "- Descripción: Utiliza list comprehension para crear una lista que contenga todas las vocales presentes en una cadena de texto (sin repetición)."
   ]
  },
  {
   "cell_type": "code",
   "execution_count": 19,
   "metadata": {},
   "outputs": [
    {
     "name": "stdout",
     "output_type": "stream",
     "text": [
      "['u', 'i', 'e', 'a', 'o']\n"
     ]
    }
   ],
   "source": [
    "cadena=\"murcielago\"\n",
    "lista_vocales=[\"a\", \"e\", \"i\", \"o\", \"u\"]\n",
    "vocales=[letra for letra in cadena if letra in lista_vocales]\n",
    "print(vocales)"
   ]
  },
  {
   "cell_type": "markdown",
   "metadata": {},
   "source": [
    "3- Filtrar los números positivos de una lista y calcular su cuadrado.\n",
    "- Descripción: Utiliza list comprehension para filtrar los números positivos de una lista y calcular el cuadrado de cada uno."
   ]
  },
  {
   "cell_type": "code",
   "execution_count": 20,
   "metadata": {},
   "outputs": [
    {
     "data": {
      "text/plain": [
       "[4, 36, 100]"
      ]
     },
     "execution_count": 20,
     "metadata": {},
     "output_type": "execute_result"
    }
   ],
   "source": [
    "lista_numeros=[2, -4, 6, -8, 10, -12]\n",
    "positivos=[]\n",
    "cuadrado=[num**2 for num in lista_numeros if num>0]\n",
    "cuadrado"
   ]
  },
  {
   "cell_type": "markdown",
   "metadata": {},
   "source": [
    "# Ejercicios try ...except\n",
    "- Descripción: Solicita al usuario una lista de nombres y un nombre para buscar en la lista. Intenta encontrar el nombre en la lista y utiliza las sentencias try y except para capturar la excepción en caso de que el nombre no sea encontrado."
   ]
  },
  {
   "cell_type": "code",
   "execution_count": 10,
   "metadata": {},
   "outputs": [
    {
     "name": "stdout",
     "output_type": "stream",
     "text": [
      "['Antonio', 'Luz', 'Carlos', 'María', 'Soledad']\n",
      "El nombre Iván no está en la lista\n"
     ]
    }
   ],
   "source": [
    "lista_nombres= [] #aquí almacenaremos nuestros nombres\n",
    "\n",
    "for x in range(5): #vamos a pedir 5 nombres, por eso el rango se limita a 5 \n",
    "    nombre=str(input(f\"Introduzca un nombre:\"))\n",
    "    lista_nombres.append(nombre)\n",
    "print(lista_nombres)\n",
    "\n",
    "try: \n",
    "    \n",
    "    nombre_buscar=str(input(\"Busque este nombre:\"))\n",
    "    \n",
    "    lista_nombres.index(nombre_buscar)\n",
    "    \n",
    "    print(f\"El nombre {nombre_buscar} está en la lista\")\n",
    "    \n",
    "except: \n",
    "    print(f\"El nombre {nombre_buscar} no está en la lista\")\n",
    "        "
   ]
  }
 ],
 "metadata": {
  "kernelspec": {
   "display_name": "base",
   "language": "python",
   "name": "python3"
  },
  "language_info": {
   "codemirror_mode": {
    "name": "ipython",
    "version": 3
   },
   "file_extension": ".py",
   "mimetype": "text/x-python",
   "name": "python",
   "nbconvert_exporter": "python",
   "pygments_lexer": "ipython3",
   "version": "3.9.7"
  }
 },
 "nbformat": 4,
 "nbformat_minor": 2
}
